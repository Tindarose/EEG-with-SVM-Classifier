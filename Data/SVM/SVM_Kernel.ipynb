{
 "cells": [
  {
   "cell_type": "code",
   "execution_count": 3,
   "metadata": {},
   "outputs": [],
   "source": [
    "import torch\n",
    "import numpy\n",
    "import pandas\n",
    "\n",
    "arr = [\"CCNN\", \"EEG\", \"TSC\"]\n",
    "mode = arr[2]"
   ]
  },
  {
   "cell_type": "code",
   "execution_count": 4,
   "metadata": {},
   "outputs": [],
   "source": [
    "import time\n",
    "start = time.time()\n",
    "# 对训练数据细分\n",
    "def split_easy(x, y, sign, gap = 16):\n",
    "    x_out, y_out = None, []\n",
    "    if sign == 1:\n",
    "        index = list(pandas.read_csv(\"../Trail_index.csv\")['Test_1'])[:15360]\n",
    "    else:\n",
    "        index = list(pandas.read_csv(\"../Trail_index.csv\")['Test_2'])[:15360]\n",
    "\n",
    "    # index = list(pandas.read_csv(\"../Random_index.csv\")['Test'])[:15360]\n",
    "\n",
    "    for i in range(gap):\n",
    "        temp = None\n",
    "        for j in range(960):\n",
    "            k = index[i * 960 + j]\n",
    "            if temp == None:\n",
    "                temp = torch.unsqueeze(x[k], dim = 0).cuda()\n",
    "            else:\n",
    "                temp = torch.cat((torch.unsqueeze(x[k], dim = 0).cuda(), temp), 0).cuda()\n",
    "\n",
    "            y_out.append(int(y[k]) == 1)\n",
    "\n",
    "        if i == 0:\n",
    "            x_out = temp\n",
    "        else:\n",
    "            x_out = torch.cat((x_out, temp), 0).cuda()\n",
    "\n",
    "    return x_out, torch.tensor(y_out), index\n",
    "\n",
    "x = torch.tensor(numpy.load(f\"./x_{mode}.npy\", allow_pickle=True))\n",
    "y = torch.tensor(numpy.load(f\"./y_{mode}.npy\", allow_pickle=True))\n",
    "\n",
    "if mode == \"CCNN\":\n",
    "    x_train, y_train, index = split_easy(x, y, 1)\n",
    "else:\n",
    "    x_train, y_train, index = split_easy(x, y, 2)\n",
    "\n",
    "x_train = x_train.reshape(x_train.shape[0], x_train.shape[2], -1)\n",
    "y_train = y_train.reshape(y_train.shape[0])\n",
    "\n",
    "numpy.save(\"./train_x.npy\", x_train.detach().cpu().numpy())\n",
    "numpy.save(\"./train_y.npy\", y_train.detach().cpu().numpy())\n"
   ]
  },
  {
   "cell_type": "code",
   "execution_count": 5,
   "metadata": {},
   "outputs": [
    {
     "name": "stdout",
     "output_type": "stream",
     "text": [
      "torch.Size([15360, 3584])\n",
      "torch.Size([15360])\n"
     ]
    }
   ],
   "source": [
    "x = torch.tensor(numpy.load(f\"./train_x.npy\", allow_pickle=True))\n",
    "y = torch.tensor(numpy.load(f\"./train_y.npy\", allow_pickle=True))\n",
    "\n",
    "x, y = x.reshape(x.shape[0], -1), y\n",
    "print(x.shape)\n",
    "print(y.shape)"
   ]
  },
  {
   "cell_type": "code",
   "execution_count": 6,
   "metadata": {},
   "outputs": [
    {
     "name": "stderr",
     "output_type": "stream",
     "text": [
      "d:\\anaconda\\lib\\site-packages\\sklearn\\svm\\_base.py:297: ConvergenceWarning: Solver terminated early (max_iter=150).  Consider pre-processing your data with StandardScaler or MinMaxScaler.\n",
      "  warnings.warn(\n"
     ]
    },
    {
     "data": {
      "text/plain": [
       "0.5383463541666667"
      ]
     },
     "execution_count": 6,
     "metadata": {},
     "output_type": "execute_result"
    }
   ],
   "source": [
    "# SVM\n",
    "import sklearn.svm\n",
    "from sklearn.preprocessing import StandardScaler\n",
    "s = StandardScaler()\n",
    "\n",
    "model = sklearn.svm.SVC(C = 1, kernel = 'poly', probability = True, max_iter = 150)\n",
    "model.fit(torch.tensor(s.fit_transform(numpy.array(x))), y)\n",
    "\n",
    "model.score(x, y)"
   ]
  },
  {
   "cell_type": "code",
   "execution_count": 7,
   "metadata": {},
   "outputs": [
    {
     "ename": "TypeError",
     "evalue": "unsupported operand type(s) for -: 'builtin_function_or_method' and 'float'",
     "output_type": "error",
     "traceback": [
      "\u001b[1;31m---------------------------------------------------------------------------\u001b[0m",
      "\u001b[1;31mTypeError\u001b[0m                                 Traceback (most recent call last)",
      "\u001b[1;32mf:\\Desktop\\Report\\Cognitive_Science\\Watermark_EEG\\Data\\SVM\\SVM_Kernel.ipynb Cell 5'\u001b[0m in \u001b[0;36m<cell line: 16>\u001b[1;34m()\u001b[0m\n\u001b[0;32m     <a href='vscode-notebook-cell:/f%3A/Desktop/Report/Cognitive_Science/Watermark_EEG/Data/SVM/SVM_Kernel.ipynb#ch0000004?line=11'>12</a>\u001b[0m     rate\u001b[39m.\u001b[39mappend(i[\u001b[39m1\u001b[39m])\n\u001b[0;32m     <a href='vscode-notebook-cell:/f%3A/Desktop/Report/Cognitive_Science/Watermark_EEG/Data/SVM/SVM_Kernel.ipynb#ch0000004?line=13'>14</a>\u001b[0m pandas\u001b[39m.\u001b[39mDataFrame({\u001b[39m'\u001b[39m\u001b[39mindex\u001b[39m\u001b[39m'\u001b[39m:index, \u001b[39m'\u001b[39m\u001b[39mrate\u001b[39m\u001b[39m'\u001b[39m:rate})\u001b[39m.\u001b[39mto_csv(\u001b[39mf\u001b[39m\u001b[39m\"\u001b[39m\u001b[39m../SVM_\u001b[39m\u001b[39m{\u001b[39;00mmode\u001b[39m}\u001b[39;00m\u001b[39m_index.csv\u001b[39m\u001b[39m\"\u001b[39m, index \u001b[39m=\u001b[39m \u001b[39mFalse\u001b[39;00m)\n\u001b[1;32m---> <a href='vscode-notebook-cell:/f%3A/Desktop/Report/Cognitive_Science/Watermark_EEG/Data/SVM/SVM_Kernel.ipynb#ch0000004?line=15'>16</a>\u001b[0m \u001b[39mprint\u001b[39m(time\u001b[39m.\u001b[39;49mtime \u001b[39m-\u001b[39;49m start)\n",
      "\u001b[1;31mTypeError\u001b[0m: unsupported operand type(s) for -: 'builtin_function_or_method' and 'float'"
     ]
    }
   ],
   "source": [
    "out = model.predict_proba(x)\n",
    "\n",
    "arr = []\n",
    "for i in range(len(out)):\n",
    "    arr.append((index[i], max(out[i][0], out[i][1])))\n",
    "\n",
    "index, rate = [], []\n",
    "arr = sorted(arr, key = lambda x : abs(x[1]))\n",
    "\n",
    "for i in arr:\n",
    "    index.append(i[0])\n",
    "    rate.append(i[1])\n",
    "\n",
    "pandas.DataFrame({'index':index, 'rate':rate}).to_csv(f\"../SVM_{mode}_index.csv\", index = False)\n",
    "\n",
    "print(time.time - start)"
   ]
  }
 ],
 "metadata": {
  "kernelspec": {
   "display_name": "Python 3.9.12 ('base')",
   "language": "python",
   "name": "python3"
  },
  "language_info": {
   "codemirror_mode": {
    "name": "ipython",
    "version": 3
   },
   "file_extension": ".py",
   "mimetype": "text/x-python",
   "name": "python",
   "nbconvert_exporter": "python",
   "pygments_lexer": "ipython3",
   "version": "3.9.12"
  },
  "orig_nbformat": 4,
  "vscode": {
   "interpreter": {
    "hash": "5179d32cf6ec497baf3f8a3ef987cc77c5d2dc691fdde20a56316522f61a7323"
   }
  }
 },
 "nbformat": 4,
 "nbformat_minor": 2
}
